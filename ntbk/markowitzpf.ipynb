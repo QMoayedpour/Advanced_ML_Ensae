{
 "cells": [
  {
   "cell_type": "markdown",
   "metadata": {},
   "source": [
    "# Markowitz Portfolio Optimization problem"
   ]
  },
  {
   "cell_type": "markdown",
   "metadata": {},
   "source": [
    "We want to maximise the sharpe ratio of a portfolio, the problem can be written as a classic optimization problem. We have:\n",
    "\n",
    "$\n",
    "\\max_{\\mathbf{w}} \\quad \\frac{\\mathbf{w}^\\top \\boldsymbol{\\mu} - r_f}{\\sqrt{\\mathbf{w}^\\top \\mathbf{\\Sigma} \\mathbf{w}}}\n",
    "$\n",
    "\n",
    "Subject to:\n",
    "\n",
    "\n",
    "*  $\\quad \\mathbf{w}^\\top \\mathbf{1} = 1 \\quad \\text{(weights sum to 1)}$\n",
    "*  $\\quad \\mathbf{w} \\geq 0 \\quad \\text{(no short selling)}.$\n",
    "\n",
    "Where:\n",
    "- $\\mathbf{w}$: Portfolio weights vector ($n \\times 1$).\n",
    "- $\\boldsymbol{\\mu}$: Expected return vector ($n \\times 1$).\n",
    "- $r_f$: Risk-free rate.\n",
    "- $\\mathbf{\\Sigma}$: Covariance matrix of asset returns ($n \\times n$).\n",
    "- $\\mathbf{1}$: Vector of ones ($n \\times 1$).\n",
    "\n",
    "\n",
    "In our case, we consider that $r_f = 0$. We aim to find a well known form of this problem, such that Linear Programming or Quadratic Programming. We need to modify a bit the problem.\n",
    "\n",
    "--- \n",
    "\n",
    "We have $f(x) = \\frac{\\mu' x}{\\sqrt{ x' \\Sigma x}}$ and we can clearly see that for any $\\lambda \\in \\mathbb{R}$, $f(\\lambda x) = f(x)$. By introducing the variable $y$, we can see that the problem is equivalent to:\n",
    "\n",
    "\n",
    "$\n",
    "\\max_{y} \\frac{1}{\\sqrt{y' \\Sigma y}}\n",
    "$\n",
    "\n",
    "Subject to:\n",
    "\n",
    "* $\\quad \\mu' y = 1$\n",
    "* $ \\quad y \\geq 0$\n",
    "\n",
    "Suppose $\\hat{y}$ is a solution of this problem, we can simply define $w_i = \\frac{y_i}{\\sum_j y_j}$ to have the normalization constraint and $w$ will be a solution of our original problem. So to write it as a classical QP, we can write:\n",
    "\n",
    "$\n",
    "\\min_{y} y' \\Sigma y\n",
    "$\n",
    "\n",
    "Subject to:\n",
    "\n",
    "* $ \\quad \\mu' y = 1$\n",
    "* $ \\quad y \\geq 0 $\n",
    "\n",
    "And we can \"easily\" solve this problem using classical convex optimization librairies like ``cvxpy``"
   ]
  },
  {
   "cell_type": "code",
   "execution_count": 7,
   "metadata": {},
   "outputs": [
    {
     "data": {
      "text/plain": [
       "array([ 3.07014644e-01,  4.51199671e-01, -3.24994041e-23, -3.81391608e-24,\n",
       "        8.55897384e-01])"
      ]
     },
     "execution_count": 7,
     "metadata": {},
     "output_type": "execute_result"
    }
   ],
   "source": [
    "import cvxpy as cp\n",
    "import numpy as np\n",
    "\n",
    "n = 5  # Dimension of y, for instance if we have 5 assets\n",
    "Sigma = np.random.randn(n, n)\n",
    "Sigma = Sigma.T @ Sigma\n",
    "mu = np.random.randn(n)  # Random vector of mu\n",
    "\n",
    "y = cp.Variable(n)\n",
    "\n",
    "objective = cp.Minimize(cp.quad_form(y, Sigma))\n",
    "\n",
    "constraints = [mu.T @ y == 1, y >= 0]\n",
    "\n",
    "problem = cp.Problem(objective, constraints)\n",
    "\n",
    "problem.solve()\n",
    "\n",
    "y.value"
   ]
  },
  {
   "cell_type": "code",
   "execution_count": 15,
   "metadata": {},
   "outputs": [
    {
     "name": "stdout",
     "output_type": "stream",
     "text": [
      "w (allocations) [ 1.90206567e-01  2.79534354e-01 -2.01345447e-23 -2.36285759e-24\n",
      "  5.30259080e-01]\n",
      "Sum of allocations: 1.0\n"
     ]
    }
   ],
   "source": [
    "# We can compute w by normalising y:\n",
    "\n",
    "w = y.value / y.value.sum()\n",
    "\n",
    "print(f\"w (allocations) {w}\")\n",
    "print(f\"Sum of allocations: {float(w.sum())}\")"
   ]
  }
 ],
 "metadata": {
  "kernelspec": {
   "display_name": ".venv",
   "language": "python",
   "name": "python3"
  },
  "language_info": {
   "codemirror_mode": {
    "name": "ipython",
    "version": 3
   },
   "file_extension": ".py",
   "mimetype": "text/x-python",
   "name": "python",
   "nbconvert_exporter": "python",
   "pygments_lexer": "ipython3",
   "version": "3.12.7"
  }
 },
 "nbformat": 4,
 "nbformat_minor": 2
}
